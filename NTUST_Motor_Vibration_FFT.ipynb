{
 "cells": [
  {
   "cell_type": "code",
   "execution_count": 33,
   "metadata": {
    "collapsed": true,
    "deletable": true,
    "editable": true
   },
   "outputs": [],
   "source": [
    "#! pip install ziplib requests"
   ]
  },
  {
   "cell_type": "code",
   "execution_count": 34,
   "metadata": {
    "collapsed": false,
    "deletable": true,
    "editable": true
   },
   "outputs": [],
   "source": [
    "import requests\n",
    "import pandas as pd\n",
    "import numpy as np"
   ]
  },
  {
   "cell_type": "code",
   "execution_count": 35,
   "metadata": {
    "collapsed": false,
    "deletable": true,
    "editable": true
   },
   "outputs": [],
   "source": [
    "def do_fft(V1,V2,V3,I1,I2,I3):\n",
    "    V1_fft = np.fft.fft(V1)\n",
    "    list_V1 = []\n",
    "    for a in V1_fft :\n",
    "        b = (abs(a)*2)/len(V1_fft)\n",
    "        list_V1.append(b)\n",
    "    list_V1=list_V1[0:5000]\n",
    "\n",
    "    V2_fft = np.fft.fft(V2)\n",
    "    list_V2 = []\n",
    "    for a in V2_fft :\n",
    "        b = (abs(a)*2)/len(V2_fft)\n",
    "        list_V2.append(b)\n",
    "    list_V2=list_V2[0:5000]\n",
    "\n",
    "    V3_fft = np.fft.fft(V3)\n",
    "    list_V3 = []\n",
    "    for a in V3_fft :\n",
    "        b = (abs(a)*2)/len(V3_fft)\n",
    "        list_V3.append(b)\n",
    "    list_V3 = list_V3[0:5000]\n",
    "\n",
    "    I1_fft = np.fft.fft(I1)\n",
    "    list_I1 = []\n",
    "    for a in I1_fft :\n",
    "        list_I1.append(abs(a))\n",
    "    list_I1=list_I1[0:5000]\n",
    "    \n",
    "    I2_fft = np.fft.fft(I2)\n",
    "    list_I2 = []\n",
    "    for a in I2_fft :\n",
    "        list_I2.append(abs(a))\n",
    "    list_I2=list_I2[0:5000]\n",
    "    \n",
    "    I3_fft = np.fft.fft(I3)\n",
    "    list_I3 = []\n",
    "    for a in I3_fft :\n",
    "        list_I3.append(abs(a))\n",
    "    list_I3=list_I3[0:5000]\n",
    "    \n",
    "    return list_V1,list_V2,list_V3,list_I1,list_I2,list_I3\n"
   ]
  },
  {
   "cell_type": "code",
   "execution_count": 36,
   "metadata": {
    "collapsed": false,
    "deletable": true,
    "editable": true
   },
   "outputs": [
    {
     "ename": "NameError",
     "evalue": "name 'REQUEST' is not defined",
     "traceback": [
      "\u001b[0;31m---------------------------------------------------------------------------\u001b[0m",
      "\u001b[0;31mNameError\u001b[0m                                 Traceback (most recent call last)",
      "\u001b[0;32m<ipython-input-36-28ced87bf3a0>\u001b[0m in \u001b[0;36m<module>\u001b[0;34m()\u001b[0m\n\u001b[1;32m      5\u001b[0m \u001b[0mclassifier_post_url\u001b[0m \u001b[0;34m=\u001b[0m \u001b[0;34m\"http://cf-json-matching.iii-cflab.com/feature_post\"\u001b[0m\u001b[0;34m\u001b[0m\u001b[0m\n\u001b[1;32m      6\u001b[0m \u001b[0;34m\u001b[0m\u001b[0m\n\u001b[0;32m----> 7\u001b[0;31m \u001b[0mrequest\u001b[0m \u001b[0;34m=\u001b[0m \u001b[0mjson\u001b[0m\u001b[0;34m.\u001b[0m\u001b[0mloads\u001b[0m\u001b[0;34m(\u001b[0m\u001b[0mREQUEST\u001b[0m\u001b[0;34m)\u001b[0m\u001b[0;34m\u001b[0m\u001b[0m\n\u001b[0m\u001b[1;32m      8\u001b[0m \u001b[0mrequest_data\u001b[0m \u001b[0;34m=\u001b[0m \u001b[0mrequest\u001b[0m\u001b[0;34m[\u001b[0m\u001b[0;34m'body'\u001b[0m\u001b[0;34m]\u001b[0m\u001b[0;34m\u001b[0m\u001b[0m\n\u001b[1;32m      9\u001b[0m \u001b[0;34m\u001b[0m\u001b[0m\n",
      "\u001b[0;31mNameError\u001b[0m: name 'REQUEST' is not defined"
     ],
     "output_type": "error"
    }
   ],
   "source": [
    "# POST /\n",
    "import json\n",
    "import os\n",
    "\n",
    "classifier_post_url = \"http://cf-json-matching.iii-cflab.com/feature_post\"\n",
    "\n",
    "request = json.loads(REQUEST)\n",
    "request_data = request['body']\n",
    "\n",
    "key_list = ['V1', 'V2', 'V3', 'I1', 'I2', 'I3']\n",
    "return_key_list = ['list_V1', 'list_V2', 'list_V3' ,'list_I1', 'list_I2' ,'list_I3']\n",
    "data_dict = {}\n",
    "result_dict = {}\n",
    "\n",
    "for key in key_list:\n",
    "    data_dict[key] = request_data[key]\n",
    "\n",
    "r = do_fft(data_dict[key_list[0]], data_dict[key_list[1]], data_dict[key_list[2]], data_dict[key_list[3]], data_dict[key_list[4]], data_dict[key_list[5]])\n",
    "for num in range(len(return_key_list)):\n",
    "    result_dict[return_key_list[num]] = r[num]\n",
    "\n",
    "result_dict['Time'] = int(request_data['Time'])\n",
    "result_dict['Machine_ID'] = request_data['Machine_ID']\n",
    "\n",
    "try:\n",
    "    r = requests.post(classifier_post_url, json=result_dict)\n",
    "except Exception as e:\n",
    "    error = True\n",
    "    exc = {'exc': str(e)}\n",
    "    print(json.dumps(exc))\n",
    "else:\n",
    "    error = False\n",
    "    #print(json.dumps({'text': r.text, 'request': str(r.request.headers), 'resp': result_dict, 'status': r.status_code}))\n",
    "# print(r.status_code)"
   ]
  },
  {
   "cell_type": "code",
   "execution_count": 21,
   "metadata": {
    "collapsed": false,
    "deletable": true,
    "editable": true
   },
   "outputs": [
    {
     "name": "stdout",
     "output_type": "stream",
     "text": [
      "{\"status\": 200, \"headers\": {\"Content-Type\": \"application/json\"}}\n"
     ]
    }
   ],
   "source": [
    "# ResponseInfo POST /\n",
    "\n",
    "resp = {\n",
    "    'headers': {\n",
    "        'Content-Type': 'application/json'\n",
    "    }\n",
    "}\n",
    "\n",
    "resp.update({'status': 200}) if not error else resp.update({'status': 500})\n",
    "\n",
    "resp = json.dumps(resp)\n",
    "print(resp)"
   ]
  }
 ],
 "metadata": {
  "kernelspec": {
   "display_name": "Python 2",
   "language": "python",
   "name": "python2"
  },
  "language_info": {
   "codemirror_mode": {
    "name": "ipython",
    "version": 2
   },
   "file_extension": ".py",
   "mimetype": "text/x-python",
   "name": "python",
   "nbconvert_exporter": "python",
   "pygments_lexer": "ipython2",
   "version": "2.7.5"
  }
 },
 "nbformat": 4,
 "nbformat_minor": 2
}
